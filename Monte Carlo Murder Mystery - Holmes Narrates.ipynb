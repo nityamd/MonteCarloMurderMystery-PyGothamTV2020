{
 "cells": [
  {
   "cell_type": "markdown",
   "metadata": {},
   "source": [
    "## Prologue\n",
    "\n",
    "<i> A Note from Shellakybooky Holmes (September 1st, 1930) </i>\n",
    "\n",
    "This past summer, Dr. Jahnvi Watson and I were spending some time in Monte Carlo at the Hotel Hamilton for what you might call \"a vacation\". In truth, I was honing my renowned skills of deduction while Watson went about her activities. I was engaged in becoming familiar with a school of statistical thinking, the Bayesian methodology of inference and analysis. There are remarkable methods within this school that are perfectly suited to my needs as a detective and man of science. Hence I spent many a summer day training my mind palace in the implementation of these methods so as to employ it most effectively whenever the need arose. And as luck would have it, such a need arose! The murder of Count Frick Von Twist provided an ideal testing ground for these methods and I have chronicled the details of the case and the subsequent resolution here.\n",
    "\n",
    "As is the case with most explanations, once it is grasped it seems almost trivial, a phenomenon that annoys me immensely! Like a magician's carefully constructed sleight of hand, to reveal one's tricks is to expose oneself to ridicule and trivialization. Nonetheless, upon my friend's insitence, I shall endeavour to provide you with such an explanation with a view to make them seem elementary to you as well. But be not fooled, my dear reader, as the apparent simplicity of these methods bely an underlying sophistication that can only be grasped at with sufficient practice. It is my hope thus that the analysis presented here inspires many an amateur enthusiast of the science of deduction (such as my dear friend Watson herself) to embrace these marvelous methods whenever they are in need of infering information from data. "
   ]
  },
  {
   "cell_type": "markdown",
   "metadata": {},
   "source": [
    "## 1. The game is afoot!"
   ]
  },
  {
   "cell_type": "code",
   "execution_count": 1,
   "metadata": {
    "slideshow": {
     "slide_type": "skip"
    }
   },
   "outputs": [],
   "source": [
    "#Importing the usual suspects\n",
    "import numpy as np\n",
    "import pandas as pd\n",
    "import matplotlib.pyplot as plt\n",
    "import warnings"
   ]
  },
  {
   "cell_type": "markdown",
   "metadata": {},
   "source": [
    "(<i>To run the following lines of code you will have to install pymc3. If you haven't already, uncomment the following cell to do so!</i>)"
   ]
  },
  {
   "cell_type": "code",
   "execution_count": 2,
   "metadata": {},
   "outputs": [],
   "source": [
    "#!pip install pymc3"
   ]
  },
  {
   "cell_type": "code",
   "execution_count": 3,
   "metadata": {
    "slideshow": {
     "slide_type": "skip"
    }
   },
   "outputs": [],
   "source": [
    "import pymc3 as pm\n",
    "import theano.tensor as tt\n",
    "import arviz as az\n",
    "import seaborn as sns"
   ]
  },
  {
   "cell_type": "markdown",
   "metadata": {},
   "source": [
    "Space to describe the problem along with shots of each character."
   ]
  },
  {
   "cell_type": "code",
   "execution_count": 4,
   "metadata": {},
   "outputs": [],
   "source": [
    "suspect_names = ['Viscountess Bae Zhun',  'Major Viktor Ljutenitsa', 'Ms Ingrid Hepburn', \n",
    "                 'Lord Bryce Bloomington', 'Barrister Shannon Von Twist', 'Nurse Eliza Dill', \n",
    "                 'Lady Barbara Bloomington', 'Mr. Miles Murdoch', 'Mr. Stan Hamilton','Python']"
   ]
  },
  {
   "cell_type": "markdown",
   "metadata": {},
   "source": [
    "I instructed Watson to interview each of the guests separately and take down detailed notes. In particular I asked her to jot down the responses to each of the following questions. <br>\n",
    "\n",
    "1. Is there an alibi for the suspect? (0/1)\n",
    "2. Did they benefit from the Count’s will? (0/1) \n",
    "3. How are their archery skills? (0/1) \n",
    "4. Does anyone else suspect them? (0/1)\n",
    "5. Did they have animosity towards the Count? (0/1)\n",
    "\n",
    "Some of these are absolute requirements for the murder (alibi and archery skill for instance) and the others, possibly highly correlated with the same. Perhaps Watson would have preferred to write these down on a spectrum of values, but the simplest approach would be to assign a 1 or a 0 to each suspect. \n",
    "(<i>1, being the value correlated with murder and 0 the opposite. Thus, for instance absence of a valid alibi would correspond to 1 and whether they have been trained in archery would correspond to 1 as well.</i>)\n",
    "\n"
   ]
  },
  {
   "cell_type": "markdown",
   "metadata": {},
   "source": [
    "## 2. Watson Interviews"
   ]
  },
  {
   "cell_type": "code",
   "execution_count": 5,
   "metadata": {},
   "outputs": [
    {
     "data": {
      "text/html": [
       "<div>\n",
       "<style scoped>\n",
       "    .dataframe tbody tr th:only-of-type {\n",
       "        vertical-align: middle;\n",
       "    }\n",
       "\n",
       "    .dataframe tbody tr th {\n",
       "        vertical-align: top;\n",
       "    }\n",
       "\n",
       "    .dataframe thead th {\n",
       "        text-align: right;\n",
       "    }\n",
       "</style>\n",
       "<table border=\"1\" class=\"dataframe\">\n",
       "  <thead>\n",
       "    <tr style=\"text-align: right;\">\n",
       "      <th></th>\n",
       "      <th>suspects</th>\n",
       "      <th>alibi</th>\n",
       "      <th>archery</th>\n",
       "      <th>inheritance</th>\n",
       "      <th>suspicion</th>\n",
       "      <th>animosity</th>\n",
       "    </tr>\n",
       "  </thead>\n",
       "  <tbody>\n",
       "    <tr>\n",
       "      <th>0</th>\n",
       "      <td>Viscountess Bae Zhun</td>\n",
       "      <td>0</td>\n",
       "      <td>1</td>\n",
       "      <td>1</td>\n",
       "      <td>1</td>\n",
       "      <td>1</td>\n",
       "    </tr>\n",
       "    <tr>\n",
       "      <th>1</th>\n",
       "      <td>Major Viktor Ljutenitsa</td>\n",
       "      <td>0</td>\n",
       "      <td>1</td>\n",
       "      <td>0</td>\n",
       "      <td>1</td>\n",
       "      <td>0</td>\n",
       "    </tr>\n",
       "    <tr>\n",
       "      <th>2</th>\n",
       "      <td>Ms Ingrid Hepburn</td>\n",
       "      <td>1</td>\n",
       "      <td>1</td>\n",
       "      <td>0</td>\n",
       "      <td>1</td>\n",
       "      <td>0</td>\n",
       "    </tr>\n",
       "    <tr>\n",
       "      <th>3</th>\n",
       "      <td>Lord Bryce Bloomington</td>\n",
       "      <td>0</td>\n",
       "      <td>1</td>\n",
       "      <td>0</td>\n",
       "      <td>1</td>\n",
       "      <td>1</td>\n",
       "    </tr>\n",
       "    <tr>\n",
       "      <th>4</th>\n",
       "      <td>Barrister Shannon Von Twist</td>\n",
       "      <td>0</td>\n",
       "      <td>1</td>\n",
       "      <td>0</td>\n",
       "      <td>1</td>\n",
       "      <td>0</td>\n",
       "    </tr>\n",
       "    <tr>\n",
       "      <th>5</th>\n",
       "      <td>Nurse Eliza Dill</td>\n",
       "      <td>1</td>\n",
       "      <td>1</td>\n",
       "      <td>0</td>\n",
       "      <td>1</td>\n",
       "      <td>0</td>\n",
       "    </tr>\n",
       "    <tr>\n",
       "      <th>6</th>\n",
       "      <td>Lady Barbara Bloomington</td>\n",
       "      <td>1</td>\n",
       "      <td>0</td>\n",
       "      <td>0</td>\n",
       "      <td>0</td>\n",
       "      <td>0</td>\n",
       "    </tr>\n",
       "    <tr>\n",
       "      <th>7</th>\n",
       "      <td>Mr. Miles Murdoch</td>\n",
       "      <td>1</td>\n",
       "      <td>0</td>\n",
       "      <td>0</td>\n",
       "      <td>0</td>\n",
       "      <td>1</td>\n",
       "    </tr>\n",
       "    <tr>\n",
       "      <th>8</th>\n",
       "      <td>Mr. Stan Hamilton</td>\n",
       "      <td>0</td>\n",
       "      <td>0</td>\n",
       "      <td>1</td>\n",
       "      <td>1</td>\n",
       "      <td>1</td>\n",
       "    </tr>\n",
       "    <tr>\n",
       "      <th>9</th>\n",
       "      <td>Python</td>\n",
       "      <td>1</td>\n",
       "      <td>0</td>\n",
       "      <td>0</td>\n",
       "      <td>0</td>\n",
       "      <td>0</td>\n",
       "    </tr>\n",
       "  </tbody>\n",
       "</table>\n",
       "</div>"
      ],
      "text/plain": [
       "                      suspects  alibi  archery  inheritance  suspicion  \\\n",
       "0         Viscountess Bae Zhun      0        1            1          1   \n",
       "1      Major Viktor Ljutenitsa      0        1            0          1   \n",
       "2            Ms Ingrid Hepburn      1        1            0          1   \n",
       "3       Lord Bryce Bloomington      0        1            0          1   \n",
       "4  Barrister Shannon Von Twist      0        1            0          1   \n",
       "5             Nurse Eliza Dill      1        1            0          1   \n",
       "6     Lady Barbara Bloomington      1        0            0          0   \n",
       "7            Mr. Miles Murdoch      1        0            0          0   \n",
       "8            Mr. Stan Hamilton      0        0            1          1   \n",
       "9                       Python      1        0            0          0   \n",
       "\n",
       "   animosity  \n",
       "0          1  \n",
       "1          0  \n",
       "2          0  \n",
       "3          1  \n",
       "4          0  \n",
       "5          0  \n",
       "6          0  \n",
       "7          1  \n",
       "8          1  \n",
       "9          0  "
      ]
     },
     "execution_count": 5,
     "metadata": {},
     "output_type": "execute_result"
    }
   ],
   "source": [
    "df = pd.read_csv('WatsonNotebook/1_Watson_Interviews.csv')\n",
    "df"
   ]
  },
  {
   "cell_type": "code",
   "execution_count": 6,
   "metadata": {},
   "outputs": [
    {
     "data": {
      "text/plain": [
       "Index(['alibi', 'archery', 'inheritance', 'suspicion', 'animosity'], dtype='object')"
      ]
     },
     "execution_count": 6,
     "metadata": {},
     "output_type": "execute_result"
    }
   ],
   "source": [
    "proxies = df.columns[1:]\n",
    "proxies"
   ]
  },
  {
   "cell_type": "markdown",
   "metadata": {},
   "source": [
    "### A model choice\n",
    "\n",
    "Watson's meticulous compilation of the above data sets us up very well indeed to be able to tackle the problem. What can we glean from a table of 0's and 1's? Well for one, we can already see the variance in the number of ones in some of the rows (i.e., between the different suspects). However, to approach this more rigorously, I propose a model belonging to the group of models known as Rasch model (or an [Item Response Model](https://mc-stan.org/docs/2_20/stan-users-guide/item-response-models-section.html)).\n",
    "\n",
    "Let's say each individual has a latent culpability $\\alpha$ and that each so-called \"murder proxy\" has a latent measure of ease (or difficulty) among the group, $\\beta$ (For instance, it could be that many people are skilled archers or very few people have alibis, etc.) We propose the following equation to describe the probability that a suspect $j$ is culpable in murder proxy $k$:\n",
    "\n",
    "$$ P(y_{j,k} = 1) = \\hbox{logit}^{-1}(\\alpha_{j} + \\beta_{k}) $$\n",
    "\n",
    "We have 10 suspects here and 5 murder proxies and so $j$ takes from 0,1,..,9 and $k$, from 0,1..,4 to keep pythonic indexing here. The [inverse logit](https://en.wikipedia.org/wiki/Logit) function is a natural choice for binary predictions and represents the logarithm of odds. Simply put, the higher the $\\alpha$ and $\\beta$ for a particular suspect-proxy (j,k) pair, the greater the odds of their culpability within that context."
   ]
  },
  {
   "cell_type": "markdown",
   "metadata": {},
   "source": [
    "### Assigning priors\n",
    "\n",
    "Once we have specified a model, we would now like to consider the question of priors. Of course we intend to infer the fifteen latent measures described above, but we must consider what these numbers could be before moving forward, i.e., we must assign them prior distributions that quantify our knowledge thusfar.  \n",
    "\n",
    "I did ask Watson to also note down her subjective suspicions of everyone - I verily do trust her excellent intuition but she (bless her soul!) is more innately trusting in the goodness of human nature than I would like my model to be at this very moment. Besides, it is early in this game of cat and mouse and so I am going to set those numbers aside for now and instead consider the same prior for each suspect - a normal distribution centred on 0 and with a standard deviation of 1. With **PyMC3**, it is as simple as writing down the following:"
   ]
  },
  {
   "cell_type": "code",
   "execution_count": 7,
   "metadata": {},
   "outputs": [],
   "source": [
    "sample_distribution = pm.Normal.dist(0,1)"
   ]
  },
  {
   "cell_type": "markdown",
   "metadata": {},
   "source": [
    "What would such a prior look like? We're going to draw 10000 samples from this distribution and plot it to get an idea! The X-axis below represents the value of culpability for each suspect and the Y-Axis gives us a measure of how likely it is that the value gets drawn from the distribution. Thus, here, the priors are centred at zero, i.e., we really are giving each suspect a fair chance. Once we have run our simluations, we will get the <b> posterior</b> which likely will not be centred at zero for each suspect, indicating which direction their culpability might tend to - but more on that later!"
   ]
  },
  {
   "cell_type": "code",
   "execution_count": 8,
   "metadata": {},
   "outputs": [
    {
     "data": {
      "image/png": "[encoded data removed]",
      "text/plain": [
       "<Figure size 864x360 with 2 Axes>"
      ]
     },
     "metadata": {},
     "output_type": "display_data"
    }
   ],
   "source": [
    "with plt.style.context('dark_background'):\n",
    "    fig, (ax1,ax2) = plt.subplots(1,2, figsize = (12,5))\n",
    "    sns.distplot(sample_distribution.random(size = 10000), color = 'b', ax = ax1)\n",
    "    sns.distplot(sample_distribution.random(size = 10000), color = 'g', ax = ax2)\n",
    "    ax1.set_xlabel(r'Distribution of $\\alpha$ for each suspect', fontsize =15)\n",
    "    ax2.set_xlabel(r'Distribution of $\\beta$ for each proxy', fontsize =15)\n",
    "    plt.tight_layout()\n",
    "    plt.savefig('./images/bell_curve_prior_alpha_beta.png')\n",
    "    plt.show()"
   ]
  },
  {
   "cell_type": "markdown",
   "metadata": {},
   "source": [
    "It is worth keeping in mind that we're keeping the same distribution for all the suspect culpabilities and the murder proxies. "
   ]
  },
  {
   "cell_type": "markdown",
   "metadata": {},
   "source": [
    "### Writing the model\n",
    "\n",
    "Now that we know how to ascribe priors to our parameters, we're going to incorporate this into our model as follows:"
   ]
  },
  {
   "cell_type": "code",
   "execution_count": 9,
   "metadata": {},
   "outputs": [],
   "source": [
    "n_suspects = 10\n",
    "n_proxies = 5\n",
    "with pm.Model() as model:\n",
    "    alpha = pm.Normal('alpha', mu = 0, sd = 1, shape=n_suspects)\n",
    "    beta = pm.Normal('beta', mu=0, sd=1, shape=n_proxies)"
   ]
  },
  {
   "cell_type": "markdown",
   "metadata": {},
   "source": [
    "Before we begin sampling, we would like our data from above and transform it to one that has only 3 columns:<br><b>Suspect Number</b>, <br>\n",
    "<b>Murder Proxy Number</b> and <br> \n",
    "<b>Value</b> (i.e., 0 or 1). <br>\n",
    "It's a quick call to one of the functions (among others) I wrote on the back of an envelope that will let us do this:"
   ]
  },
  {
   "cell_type": "code",
   "execution_count": 10,
   "metadata": {},
   "outputs": [
    {
     "data": {
      "text/html": [
       "<div>\n",
       "<style scoped>\n",
       "    .dataframe tbody tr th:only-of-type {\n",
       "        vertical-align: middle;\n",
       "    }\n",
       "\n",
       "    .dataframe tbody tr th {\n",
       "        vertical-align: top;\n",
       "    }\n",
       "\n",
       "    .dataframe thead th {\n",
       "        text-align: right;\n",
       "    }\n",
       "</style>\n",
       "<table border=\"1\" class=\"dataframe\">\n",
       "  <thead>\n",
       "    <tr style=\"text-align: right;\">\n",
       "      <th></th>\n",
       "      <th>suspects</th>\n",
       "      <th>murder_proxy</th>\n",
       "      <th>value</th>\n",
       "    </tr>\n",
       "  </thead>\n",
       "  <tbody>\n",
       "    <tr>\n",
       "      <th>0</th>\n",
       "      <td>0</td>\n",
       "      <td>0</td>\n",
       "      <td>0</td>\n",
       "    </tr>\n",
       "    <tr>\n",
       "      <th>1</th>\n",
       "      <td>0</td>\n",
       "      <td>1</td>\n",
       "      <td>1</td>\n",
       "    </tr>\n",
       "    <tr>\n",
       "      <th>2</th>\n",
       "      <td>0</td>\n",
       "      <td>2</td>\n",
       "      <td>1</td>\n",
       "    </tr>\n",
       "    <tr>\n",
       "      <th>3</th>\n",
       "      <td>0</td>\n",
       "      <td>3</td>\n",
       "      <td>1</td>\n",
       "    </tr>\n",
       "    <tr>\n",
       "      <th>4</th>\n",
       "      <td>0</td>\n",
       "      <td>4</td>\n",
       "      <td>1</td>\n",
       "    </tr>\n",
       "    <tr>\n",
       "      <th>5</th>\n",
       "      <td>1</td>\n",
       "      <td>0</td>\n",
       "      <td>0</td>\n",
       "    </tr>\n",
       "    <tr>\n",
       "      <th>6</th>\n",
       "      <td>1</td>\n",
       "      <td>1</td>\n",
       "      <td>1</td>\n",
       "    </tr>\n",
       "    <tr>\n",
       "      <th>7</th>\n",
       "      <td>1</td>\n",
       "      <td>2</td>\n",
       "      <td>0</td>\n",
       "    </tr>\n",
       "    <tr>\n",
       "      <th>8</th>\n",
       "      <td>1</td>\n",
       "      <td>3</td>\n",
       "      <td>1</td>\n",
       "    </tr>\n",
       "    <tr>\n",
       "      <th>9</th>\n",
       "      <td>1</td>\n",
       "      <td>4</td>\n",
       "      <td>0</td>\n",
       "    </tr>\n",
       "  </tbody>\n",
       "</table>\n",
       "</div>"
      ],
      "text/plain": [
       "   suspects  murder_proxy  value\n",
       "0         0             0      0\n",
       "1         0             1      1\n",
       "2         0             2      1\n",
       "3         0             3      1\n",
       "4         0             4      1\n",
       "5         1             0      0\n",
       "6         1             1      1\n",
       "7         1             2      0\n",
       "8         1             3      1\n",
       "9         1             4      0"
      ]
     },
     "execution_count": 10,
     "metadata": {},
     "output_type": "execute_result"
    }
   ],
   "source": [
    "from BackOfTheEnvelope.helpers import transform_df, get_results\n",
    "observed_data = transform_df(df).reset_index(drop = True)\n",
    "observed_data.head(10)"
   ]
  },
  {
   "cell_type": "code",
   "execution_count": 11,
   "metadata": {},
   "outputs": [],
   "source": [
    "with model:\n",
    "    idx1 = observed_data.suspects.values\n",
    "    idx2 = observed_data.murder_proxy.values\n",
    "    contextual_culpability= pm.Deterministic('contextual_culpability', alpha[idx1] + beta[idx2]) \n",
    "    theta = pm.Deterministic('theta', pm.math.sigmoid(contextual_culpability))"
   ]
  },
  {
   "cell_type": "markdown",
   "metadata": {},
   "source": [
    "## 3. The Mind Palace"
   ]
  },
  {
   "cell_type": "markdown",
   "metadata": {},
   "source": [
    "At this point, I had all the tools needed to enter my mind palace where I will, with some very efficient searching of the parameter space, come up with the posterior distribution that fits the data best. Consider the following:"
   ]
  },
  {
   "cell_type": "code",
   "execution_count": 12,
   "metadata": {},
   "outputs": [],
   "source": [
    "with model:\n",
    "    y = pm.Bernoulli('y', theta ,observed = observed_data['value'])"
   ]
  },
  {
   "cell_type": "code",
   "execution_count": 13,
   "metadata": {},
   "outputs": [
    {
     "name": "stderr",
     "output_type": "stream",
     "text": [
      "Auto-assigning NUTS sampler...\n",
      "Initializing NUTS using jitter+adapt_diag...\n",
      "Multiprocess sampling (4 chains in 2 jobs)\n",
      "NUTS: [beta, alpha]\n",
      "Sampling 4 chains, 0 divergences: 100%|██████████| 16000/16000 [00:20<00:00, 784.40draws/s]\n"
     ]
    }
   ],
   "source": [
    "with model:\n",
    "    trace = pm.sample(2000, tune=2000, chains = 4)"
   ]
  },
  {
   "cell_type": "code",
   "execution_count": 14,
   "metadata": {},
   "outputs": [],
   "source": [
    "summarystats = pm.summary(trace)"
   ]
  },
  {
   "cell_type": "code",
   "execution_count": 15,
   "metadata": {},
   "outputs": [
    {
     "data": {
      "text/html": [
       "<div>\n",
       "<style scoped>\n",
       "    .dataframe tbody tr th:only-of-type {\n",
       "        vertical-align: middle;\n",
       "    }\n",
       "\n",
       "    .dataframe tbody tr th {\n",
       "        vertical-align: top;\n",
       "    }\n",
       "\n",
       "    .dataframe thead th {\n",
       "        text-align: right;\n",
       "    }\n",
       "</style>\n",
       "<table border=\"1\" class=\"dataframe\">\n",
       "  <thead>\n",
       "    <tr style=\"text-align: right;\">\n",
       "      <th></th>\n",
       "      <th>suspects</th>\n",
       "      <th>mean_alpha</th>\n",
       "      <th>alpha_hpd3</th>\n",
       "      <th>alpha_hpd97</th>\n",
       "    </tr>\n",
       "  </thead>\n",
       "  <tbody>\n",
       "    <tr>\n",
       "      <th>0</th>\n",
       "      <td>Viscountess Bae Zhun</td>\n",
       "      <td>0.785</td>\n",
       "      <td>-0.564</td>\n",
       "      <td>2.119</td>\n",
       "    </tr>\n",
       "    <tr>\n",
       "      <th>1</th>\n",
       "      <td>Major Viktor Ljutenitsa</td>\n",
       "      <td>-0.220</td>\n",
       "      <td>-1.532</td>\n",
       "      <td>1.180</td>\n",
       "    </tr>\n",
       "    <tr>\n",
       "      <th>2</th>\n",
       "      <td>Ms Ingrid Hepburn</td>\n",
       "      <td>0.269</td>\n",
       "      <td>-1.044</td>\n",
       "      <td>1.663</td>\n",
       "    </tr>\n",
       "    <tr>\n",
       "      <th>3</th>\n",
       "      <td>Lord Bryce Bloomington</td>\n",
       "      <td>0.268</td>\n",
       "      <td>-1.091</td>\n",
       "      <td>1.597</td>\n",
       "    </tr>\n",
       "    <tr>\n",
       "      <th>4</th>\n",
       "      <td>Barrister Shannon Von Twist</td>\n",
       "      <td>-0.234</td>\n",
       "      <td>-1.650</td>\n",
       "      <td>1.099</td>\n",
       "    </tr>\n",
       "    <tr>\n",
       "      <th>5</th>\n",
       "      <td>Nurse Eliza Dill</td>\n",
       "      <td>0.273</td>\n",
       "      <td>-1.009</td>\n",
       "      <td>1.681</td>\n",
       "    </tr>\n",
       "    <tr>\n",
       "      <th>6</th>\n",
       "      <td>Lady Barbara Bloomington</td>\n",
       "      <td>-0.729</td>\n",
       "      <td>-2.176</td>\n",
       "      <td>0.576</td>\n",
       "    </tr>\n",
       "    <tr>\n",
       "      <th>7</th>\n",
       "      <td>Mr. Miles Murdoch</td>\n",
       "      <td>-0.221</td>\n",
       "      <td>-1.542</td>\n",
       "      <td>1.175</td>\n",
       "    </tr>\n",
       "    <tr>\n",
       "      <th>8</th>\n",
       "      <td>Mr. Stan Hamilton</td>\n",
       "      <td>0.270</td>\n",
       "      <td>-1.159</td>\n",
       "      <td>1.573</td>\n",
       "    </tr>\n",
       "    <tr>\n",
       "      <th>9</th>\n",
       "      <td>Python</td>\n",
       "      <td>-0.741</td>\n",
       "      <td>-2.150</td>\n",
       "      <td>0.658</td>\n",
       "    </tr>\n",
       "  </tbody>\n",
       "</table>\n",
       "</div>"
      ],
      "text/plain": [
       "                      suspects  mean_alpha  alpha_hpd3  alpha_hpd97\n",
       "0         Viscountess Bae Zhun       0.785      -0.564        2.119\n",
       "1      Major Viktor Ljutenitsa      -0.220      -1.532        1.180\n",
       "2            Ms Ingrid Hepburn       0.269      -1.044        1.663\n",
       "3       Lord Bryce Bloomington       0.268      -1.091        1.597\n",
       "4  Barrister Shannon Von Twist      -0.234      -1.650        1.099\n",
       "5             Nurse Eliza Dill       0.273      -1.009        1.681\n",
       "6     Lady Barbara Bloomington      -0.729      -2.176        0.576\n",
       "7            Mr. Miles Murdoch      -0.221      -1.542        1.175\n",
       "8            Mr. Stan Hamilton       0.270      -1.159        1.573\n",
       "9                       Python      -0.741      -2.150        0.658"
      ]
     },
     "execution_count": 15,
     "metadata": {},
     "output_type": "execute_result"
    }
   ],
   "source": [
    "results = get_results(trace)\n",
    "results"
   ]
  },
  {
   "cell_type": "markdown",
   "metadata": {},
   "source": [
    "### A peek at the posteriors"
   ]
  },
  {
   "cell_type": "code",
   "execution_count": 16,
   "metadata": {},
   "outputs": [
    {
     "data": {
      "image/png": "[encoded data removed]",
      "text/plain": [
       "<Figure size 720x576 with 1 Axes>"
      ]
     },
     "metadata": {},
     "output_type": "display_data"
    }
   ],
   "source": [
    "with plt.style.context('dark_background'):\n",
    "    sns.set_context(\"paper\", font_scale= 2)\n",
    "    plt.style.context('dark_background')\n",
    "    fig, ax = plt.subplots(figsize=(10,8))\n",
    "    ax = sns.pointplot(x=\"mean_alpha\", y=\"suspects\", data=results, join=False, color = 'w', size = 40000)\n",
    "    ax.set(xlabel='Culpability', ylabel='')\n",
    "    i = 0\n",
    "    for row, pair in enumerate(zip(results['alpha_hpd3'], results['alpha_hpd97'])):\n",
    "        ax.plot(pair, [row,row],color = sns.color_palette(\"hls\",10)[i], lw=3)\n",
    "        i +=1\n",
    "    plt.tight_layout()\n",
    "    plt.savefig('./images/coefplot1.png')\n",
    "    plt.show()"
   ]
  },
  {
   "cell_type": "markdown",
   "metadata": {},
   "source": [
    "### How well does the model fit the observed data?"
   ]
  },
  {
   "cell_type": "markdown",
   "metadata": {},
   "source": [
    "## 4. A Twist in the Tale"
   ]
  },
  {
   "cell_type": "code",
   "execution_count": 17,
   "metadata": {},
   "outputs": [
    {
     "data": {
      "text/html": [
       "<div>\n",
       "<style scoped>\n",
       "    .dataframe tbody tr th:only-of-type {\n",
       "        vertical-align: middle;\n",
       "    }\n",
       "\n",
       "    .dataframe tbody tr th {\n",
       "        vertical-align: top;\n",
       "    }\n",
       "\n",
       "    .dataframe thead th {\n",
       "        text-align: right;\n",
       "    }\n",
       "</style>\n",
       "<table border=\"1\" class=\"dataframe\">\n",
       "  <thead>\n",
       "    <tr style=\"text-align: right;\">\n",
       "      <th></th>\n",
       "      <th>suspects</th>\n",
       "      <th>alibi</th>\n",
       "      <th>archery</th>\n",
       "      <th>inheritance</th>\n",
       "      <th>suspicion</th>\n",
       "      <th>animosity</th>\n",
       "    </tr>\n",
       "  </thead>\n",
       "  <tbody>\n",
       "    <tr>\n",
       "      <th>0</th>\n",
       "      <td>Viscountess Bae Zhun</td>\n",
       "      <td>0</td>\n",
       "      <td>1</td>\n",
       "      <td>0</td>\n",
       "      <td>1</td>\n",
       "      <td>1</td>\n",
       "    </tr>\n",
       "    <tr>\n",
       "      <th>1</th>\n",
       "      <td>Major Viktor Ljutenitsa</td>\n",
       "      <td>0</td>\n",
       "      <td>1</td>\n",
       "      <td>0</td>\n",
       "      <td>1</td>\n",
       "      <td>0</td>\n",
       "    </tr>\n",
       "    <tr>\n",
       "      <th>2</th>\n",
       "      <td>Ms Ingrid Hepburn</td>\n",
       "      <td>1</td>\n",
       "      <td>1</td>\n",
       "      <td>1</td>\n",
       "      <td>1</td>\n",
       "      <td>0</td>\n",
       "    </tr>\n",
       "    <tr>\n",
       "      <th>3</th>\n",
       "      <td>Lord Bryce Bloomington</td>\n",
       "      <td>0</td>\n",
       "      <td>1</td>\n",
       "      <td>0</td>\n",
       "      <td>1</td>\n",
       "      <td>1</td>\n",
       "    </tr>\n",
       "    <tr>\n",
       "      <th>4</th>\n",
       "      <td>Barrister Shannon Von Twist</td>\n",
       "      <td>0</td>\n",
       "      <td>1</td>\n",
       "      <td>0</td>\n",
       "      <td>1</td>\n",
       "      <td>0</td>\n",
       "    </tr>\n",
       "    <tr>\n",
       "      <th>5</th>\n",
       "      <td>Nurse Eliza Dill</td>\n",
       "      <td>1</td>\n",
       "      <td>1</td>\n",
       "      <td>0</td>\n",
       "      <td>1</td>\n",
       "      <td>0</td>\n",
       "    </tr>\n",
       "    <tr>\n",
       "      <th>6</th>\n",
       "      <td>Lady Barbara Bloomington</td>\n",
       "      <td>1</td>\n",
       "      <td>0</td>\n",
       "      <td>0</td>\n",
       "      <td>0</td>\n",
       "      <td>0</td>\n",
       "    </tr>\n",
       "    <tr>\n",
       "      <th>7</th>\n",
       "      <td>Mr. Miles Murdoch</td>\n",
       "      <td>1</td>\n",
       "      <td>0</td>\n",
       "      <td>0</td>\n",
       "      <td>0</td>\n",
       "      <td>1</td>\n",
       "    </tr>\n",
       "    <tr>\n",
       "      <th>8</th>\n",
       "      <td>Mr. Stan Hamilton</td>\n",
       "      <td>0</td>\n",
       "      <td>0</td>\n",
       "      <td>1</td>\n",
       "      <td>1</td>\n",
       "      <td>1</td>\n",
       "    </tr>\n",
       "    <tr>\n",
       "      <th>9</th>\n",
       "      <td>Python</td>\n",
       "      <td>1</td>\n",
       "      <td>0</td>\n",
       "      <td>0</td>\n",
       "      <td>0</td>\n",
       "      <td>0</td>\n",
       "    </tr>\n",
       "  </tbody>\n",
       "</table>\n",
       "</div>"
      ],
      "text/plain": [
       "                      suspects  alibi  archery  inheritance  suspicion  \\\n",
       "0         Viscountess Bae Zhun      0        1            0          1   \n",
       "1      Major Viktor Ljutenitsa      0        1            0          1   \n",
       "2            Ms Ingrid Hepburn      1        1            1          1   \n",
       "3       Lord Bryce Bloomington      0        1            0          1   \n",
       "4  Barrister Shannon Von Twist      0        1            0          1   \n",
       "5             Nurse Eliza Dill      1        1            0          1   \n",
       "6     Lady Barbara Bloomington      1        0            0          0   \n",
       "7            Mr. Miles Murdoch      1        0            0          0   \n",
       "8            Mr. Stan Hamilton      0        0            1          1   \n",
       "9                       Python      1        0            0          0   \n",
       "\n",
       "   animosity  \n",
       "0          1  \n",
       "1          0  \n",
       "2          0  \n",
       "3          1  \n",
       "4          0  \n",
       "5          0  \n",
       "6          0  \n",
       "7          1  \n",
       "8          1  \n",
       "9          0  "
      ]
     },
     "execution_count": 17,
     "metadata": {},
     "output_type": "execute_result"
    }
   ],
   "source": [
    "df_updated = df.copy()\n",
    "df_updated['inheritance'] = [0,0,1,0,0,0,0,0,1,0]\n",
    "df_updated"
   ]
  },
  {
   "cell_type": "code",
   "execution_count": 18,
   "metadata": {},
   "outputs": [],
   "source": [
    "observed_data_updated = transform_df(df_updated)"
   ]
  },
  {
   "cell_type": "code",
   "execution_count": 19,
   "metadata": {},
   "outputs": [
    {
     "data": {
      "text/plain": [
       "(array([ 0.785, -0.22 ,  0.269,  0.268, -0.234,  0.273, -0.729, -0.221,\n",
       "         0.27 , -0.741]),\n",
       " array([0.722, 0.724, 0.718, 0.72 , 0.73 , 0.716, 0.736, 0.726, 0.725,\n",
       "        0.744]))"
      ]
     },
     "execution_count": 19,
     "metadata": {},
     "output_type": "execute_result"
    }
   ],
   "source": [
    "posterior_alpha_means = summarystats['mean'][0:10].values\n",
    "posterior_alpha_sds = summarystats['sd'][0:10].values\n",
    "posterior_beta_means = summarystats['mean'][10:15].values\n",
    "posterior_beta_sds = summarystats['sd'][10:15].values\n",
    "posterior_alpha_means, posterior_alpha_sds"
   ]
  },
  {
   "cell_type": "code",
   "execution_count": 20,
   "metadata": {},
   "outputs": [
    {
     "name": "stderr",
     "output_type": "stream",
     "text": [
      "Auto-assigning NUTS sampler...\n",
      "Initializing NUTS using jitter+adapt_diag...\n",
      "Multiprocess sampling (4 chains in 2 jobs)\n",
      "NUTS: [beta, alpha]\n",
      "Sampling 4 chains, 0 divergences: 100%|██████████| 16000/16000 [00:16<00:00, 963.67draws/s] \n"
     ]
    }
   ],
   "source": [
    "with pm.Model() as model:\n",
    "    alpha_updated = pm.Normal('alpha', posterior_alpha_means, posterior_alpha_sds, shape = 10)\n",
    "    beta_updated = pm.Normal('beta', 0,1)\n",
    "    idx1 =[0,1,2,3,4,5,6,7,8,9]\n",
    "    #idx2 = observed_data_new.murder_proxy.values\n",
    "    contextual_culpability= pm.Deterministic('contextual_culpability', alpha_updated[idx1] + beta_updated) \n",
    "    theta = pm.Deterministic('theta', pm.math.sigmoid(contextual_culpability))\n",
    "    y = pm.Bernoulli('y', theta ,observed = df_updated['inheritance'].values)\n",
    "    trace_updated = pm.sample(2000, tune=2000, chains = 4)"
   ]
  },
  {
   "cell_type": "code",
   "execution_count": 21,
   "metadata": {},
   "outputs": [
    {
     "data": {
      "text/html": [
       "<div>\n",
       "<style scoped>\n",
       "    .dataframe tbody tr th:only-of-type {\n",
       "        vertical-align: middle;\n",
       "    }\n",
       "\n",
       "    .dataframe tbody tr th {\n",
       "        vertical-align: top;\n",
       "    }\n",
       "\n",
       "    .dataframe thead th {\n",
       "        text-align: right;\n",
       "    }\n",
       "</style>\n",
       "<table border=\"1\" class=\"dataframe\">\n",
       "  <thead>\n",
       "    <tr style=\"text-align: right;\">\n",
       "      <th></th>\n",
       "      <th>suspects</th>\n",
       "      <th>mean_alpha</th>\n",
       "      <th>alpha_hpd3</th>\n",
       "      <th>alpha_hpd97</th>\n",
       "    </tr>\n",
       "  </thead>\n",
       "  <tbody>\n",
       "    <tr>\n",
       "      <th>0</th>\n",
       "      <td>Viscountess Bae Zhun</td>\n",
       "      <td>0.575</td>\n",
       "      <td>-0.727</td>\n",
       "      <td>1.843</td>\n",
       "    </tr>\n",
       "    <tr>\n",
       "      <th>1</th>\n",
       "      <td>Major Viktor Ljutenitsa</td>\n",
       "      <td>-0.348</td>\n",
       "      <td>-1.579</td>\n",
       "      <td>1.013</td>\n",
       "    </tr>\n",
       "    <tr>\n",
       "      <th>2</th>\n",
       "      <td>Ms Ingrid Hepburn</td>\n",
       "      <td>0.573</td>\n",
       "      <td>-0.640</td>\n",
       "      <td>1.884</td>\n",
       "    </tr>\n",
       "    <tr>\n",
       "      <th>3</th>\n",
       "      <td>Lord Bryce Bloomington</td>\n",
       "      <td>0.107</td>\n",
       "      <td>-1.175</td>\n",
       "      <td>1.390</td>\n",
       "    </tr>\n",
       "    <tr>\n",
       "      <th>4</th>\n",
       "      <td>Barrister Shannon Von Twist</td>\n",
       "      <td>-0.357</td>\n",
       "      <td>-1.657</td>\n",
       "      <td>0.940</td>\n",
       "    </tr>\n",
       "    <tr>\n",
       "      <th>5</th>\n",
       "      <td>Nurse Eliza Dill</td>\n",
       "      <td>0.112</td>\n",
       "      <td>-1.200</td>\n",
       "      <td>1.403</td>\n",
       "    </tr>\n",
       "    <tr>\n",
       "      <th>6</th>\n",
       "      <td>Lady Barbara Bloomington</td>\n",
       "      <td>-0.834</td>\n",
       "      <td>-2.126</td>\n",
       "      <td>0.513</td>\n",
       "    </tr>\n",
       "    <tr>\n",
       "      <th>7</th>\n",
       "      <td>Mr. Miles Murdoch</td>\n",
       "      <td>-0.341</td>\n",
       "      <td>-1.705</td>\n",
       "      <td>0.949</td>\n",
       "    </tr>\n",
       "    <tr>\n",
       "      <th>8</th>\n",
       "      <td>Mr. Stan Hamilton</td>\n",
       "      <td>0.579</td>\n",
       "      <td>-0.674</td>\n",
       "      <td>1.880</td>\n",
       "    </tr>\n",
       "    <tr>\n",
       "      <th>9</th>\n",
       "      <td>Python</td>\n",
       "      <td>-0.836</td>\n",
       "      <td>-2.180</td>\n",
       "      <td>0.507</td>\n",
       "    </tr>\n",
       "  </tbody>\n",
       "</table>\n",
       "</div>"
      ],
      "text/plain": [
       "                      suspects  mean_alpha  alpha_hpd3  alpha_hpd97\n",
       "0         Viscountess Bae Zhun       0.575      -0.727        1.843\n",
       "1      Major Viktor Ljutenitsa      -0.348      -1.579        1.013\n",
       "2            Ms Ingrid Hepburn       0.573      -0.640        1.884\n",
       "3       Lord Bryce Bloomington       0.107      -1.175        1.390\n",
       "4  Barrister Shannon Von Twist      -0.357      -1.657        0.940\n",
       "5             Nurse Eliza Dill       0.112      -1.200        1.403\n",
       "6     Lady Barbara Bloomington      -0.834      -2.126        0.513\n",
       "7            Mr. Miles Murdoch      -0.341      -1.705        0.949\n",
       "8            Mr. Stan Hamilton       0.579      -0.674        1.880\n",
       "9                       Python      -0.836      -2.180        0.507"
      ]
     },
     "execution_count": 21,
     "metadata": {},
     "output_type": "execute_result"
    }
   ],
   "source": [
    "results_updated = get_results(trace_updated)\n",
    "results_updated"
   ]
  },
  {
   "cell_type": "code",
   "execution_count": 22,
   "metadata": {},
   "outputs": [
    {
     "data": {
      "image/png": "[encoded data removed]",
      "text/plain": [
       "<Figure size 720x576 with 1 Axes>"
      ]
     },
     "metadata": {},
     "output_type": "display_data"
    }
   ],
   "source": [
    "with plt.style.context('dark_background'):\n",
    "    sns.set_context(\"paper\", font_scale= 2)\n",
    "    plt.style.context('dark_background')\n",
    "    fig, ax = plt.subplots(figsize=(10,8))\n",
    "    ax = sns.pointplot(x=\"mean_alpha\", y=\"suspects\", data=results, join=False, color = 'b', size = 40000, label = 'before')\n",
    "    ax = sns.pointplot(x=\"mean_alpha\", y=\"suspects\", data=results_updated, join=False, color = 'g', size = 40000, label = 'after')\n",
    "    #plt.legend(ax)\n",
    "    ax.set(xlabel='Culpability', ylabel='')\n",
    "    i = 0\n",
    "    for row, pair in enumerate(zip(results['alpha_hpd3'], results['alpha_hpd97'])):\n",
    "        ax.plot(pair, [row,row],color = sns.color_palette(\"hls\",10)[i], lw=3)\n",
    "        i +=1\n",
    "    i = 0\n",
    "    for row, pair in enumerate(zip(results_updated['alpha_hpd3'], results_updated['alpha_hpd97'])):\n",
    "        ax.plot(pair, [row,row],color = sns.color_palette(\"hls\",10)[i], lw=3)\n",
    "        i +=1\n",
    "    plt.setp(ax.collections, sizes=[100])\n",
    "    \n",
    "    plt.tight_layout()\n",
    "    plt.savefig('./images/coefplot2.png')\n",
    "    plt.show()"
   ]
  },
  {
   "cell_type": "markdown",
   "metadata": {},
   "source": [
    "## 5. Peace and Convergence"
   ]
  },
  {
   "cell_type": "markdown",
   "metadata": {},
   "source": [
    "## Final Model Run!"
   ]
  },
  {
   "cell_type": "code",
   "execution_count": 23,
   "metadata": {},
   "outputs": [],
   "source": [
    "df_final = df.copy()"
   ]
  },
  {
   "cell_type": "code",
   "execution_count": 24,
   "metadata": {},
   "outputs": [],
   "source": [
    "df_final['alibi'] = [0,0,0,0,0,1,0,1,0,1]\n",
    "df_final['animosity'] = [0,0,0,1,0,1,0,1,1,0]\n",
    "df_final['inheritance'] = [1,0,0,0,0,1,0,0,1,0]\n",
    "df_final.to_csv('./WatsonNotebook/3_peace_and_convergence.csv')"
   ]
  },
  {
   "cell_type": "code",
   "execution_count": 25,
   "metadata": {},
   "outputs": [],
   "source": [
    "observed_data_final = transform_df(df_final)"
   ]
  },
  {
   "cell_type": "code",
   "execution_count": 26,
   "metadata": {},
   "outputs": [],
   "source": [
    "n_suspects = 10\n",
    "n_proxies = 5"
   ]
  },
  {
   "cell_type": "code",
   "execution_count": 27,
   "metadata": {},
   "outputs": [
    {
     "name": "stderr",
     "output_type": "stream",
     "text": [
      "Auto-assigning NUTS sampler...\n",
      "Initializing NUTS using jitter+adapt_diag...\n",
      "Multiprocess sampling (4 chains in 2 jobs)\n",
      "NUTS: [beta, alpha]\n",
      "Sampling 4 chains, 0 divergences: 100%|██████████| 16000/16000 [00:18<00:00, 875.60draws/s]\n"
     ]
    }
   ],
   "source": [
    "with pm.Model() as model:\n",
    "    alpha = pm.Normal('alpha', mu = 0, sd = 1, shape=n_suspects)\n",
    "    beta = pm.Normal('beta', mu=0, sd=1, shape=n_proxies)\n",
    "    idx1 = observed_data_final.suspects.values\n",
    "    idx2 = observed_data_final.murder_proxy.values\n",
    "    contextual_culpability= pm.Deterministic('contextual_culpability', alpha[idx1] + beta[idx2]) \n",
    "    theta = pm.Deterministic('theta', pm.math.sigmoid(contextual_culpability))\n",
    "    y = pm.Bernoulli('y', theta ,observed = observed_data_final['value'])\n",
    "    trace_final = pm.sample(2000, tune=2000, chains = 4)"
   ]
  },
  {
   "cell_type": "code",
   "execution_count": 28,
   "metadata": {},
   "outputs": [
    {
     "data": {
      "text/html": [
       "<div>\n",
       "<style scoped>\n",
       "    .dataframe tbody tr th:only-of-type {\n",
       "        vertical-align: middle;\n",
       "    }\n",
       "\n",
       "    .dataframe tbody tr th {\n",
       "        vertical-align: top;\n",
       "    }\n",
       "\n",
       "    .dataframe thead th {\n",
       "        text-align: right;\n",
       "    }\n",
       "</style>\n",
       "<table border=\"1\" class=\"dataframe\">\n",
       "  <thead>\n",
       "    <tr style=\"text-align: right;\">\n",
       "      <th></th>\n",
       "      <th>suspects</th>\n",
       "      <th>mean_alpha</th>\n",
       "      <th>alpha_hpd3</th>\n",
       "      <th>alpha_hpd97</th>\n",
       "    </tr>\n",
       "  </thead>\n",
       "  <tbody>\n",
       "    <tr>\n",
       "      <th>0</th>\n",
       "      <td>Viscountess Bae Zhun</td>\n",
       "      <td>0.301</td>\n",
       "      <td>-1.020</td>\n",
       "      <td>1.684</td>\n",
       "    </tr>\n",
       "    <tr>\n",
       "      <th>1</th>\n",
       "      <td>Major Viktor Ljutenitsa</td>\n",
       "      <td>-0.207</td>\n",
       "      <td>-1.501</td>\n",
       "      <td>1.191</td>\n",
       "    </tr>\n",
       "    <tr>\n",
       "      <th>2</th>\n",
       "      <td>Ms Ingrid Hepburn</td>\n",
       "      <td>-0.193</td>\n",
       "      <td>-1.507</td>\n",
       "      <td>1.161</td>\n",
       "    </tr>\n",
       "    <tr>\n",
       "      <th>3</th>\n",
       "      <td>Lord Bryce Bloomington</td>\n",
       "      <td>0.301</td>\n",
       "      <td>-1.076</td>\n",
       "      <td>1.648</td>\n",
       "    </tr>\n",
       "    <tr>\n",
       "      <th>4</th>\n",
       "      <td>Barrister Shannon Von Twist</td>\n",
       "      <td>-0.200</td>\n",
       "      <td>-1.541</td>\n",
       "      <td>1.124</td>\n",
       "    </tr>\n",
       "    <tr>\n",
       "      <th>5</th>\n",
       "      <td>Nurse Eliza Dill</td>\n",
       "      <td>1.348</td>\n",
       "      <td>0.024</td>\n",
       "      <td>2.830</td>\n",
       "    </tr>\n",
       "    <tr>\n",
       "      <th>6</th>\n",
       "      <td>Lady Barbara Bloomington</td>\n",
       "      <td>-1.234</td>\n",
       "      <td>-2.724</td>\n",
       "      <td>0.172</td>\n",
       "    </tr>\n",
       "    <tr>\n",
       "      <th>7</th>\n",
       "      <td>Mr. Miles Murdoch</td>\n",
       "      <td>-0.194</td>\n",
       "      <td>-1.509</td>\n",
       "      <td>1.124</td>\n",
       "    </tr>\n",
       "    <tr>\n",
       "      <th>8</th>\n",
       "      <td>Mr. Stan Hamilton</td>\n",
       "      <td>0.296</td>\n",
       "      <td>-1.026</td>\n",
       "      <td>1.704</td>\n",
       "    </tr>\n",
       "    <tr>\n",
       "      <th>9</th>\n",
       "      <td>Python</td>\n",
       "      <td>-0.708</td>\n",
       "      <td>-2.108</td>\n",
       "      <td>0.678</td>\n",
       "    </tr>\n",
       "  </tbody>\n",
       "</table>\n",
       "</div>"
      ],
      "text/plain": [
       "                      suspects  mean_alpha  alpha_hpd3  alpha_hpd97\n",
       "0         Viscountess Bae Zhun       0.301      -1.020        1.684\n",
       "1      Major Viktor Ljutenitsa      -0.207      -1.501        1.191\n",
       "2            Ms Ingrid Hepburn      -0.193      -1.507        1.161\n",
       "3       Lord Bryce Bloomington       0.301      -1.076        1.648\n",
       "4  Barrister Shannon Von Twist      -0.200      -1.541        1.124\n",
       "5             Nurse Eliza Dill       1.348       0.024        2.830\n",
       "6     Lady Barbara Bloomington      -1.234      -2.724        0.172\n",
       "7            Mr. Miles Murdoch      -0.194      -1.509        1.124\n",
       "8            Mr. Stan Hamilton       0.296      -1.026        1.704\n",
       "9                       Python      -0.708      -2.108        0.678"
      ]
     },
     "execution_count": 28,
     "metadata": {},
     "output_type": "execute_result"
    }
   ],
   "source": [
    "results_final = get_results(trace_final)\n",
    "results_final"
   ]
  },
  {
   "cell_type": "code",
   "execution_count": 29,
   "metadata": {},
   "outputs": [
    {
     "data": {
      "image/png": "[encoded data removed]",
      "text/plain": [
       "<Figure size 720x576 with 1 Axes>"
      ]
     },
     "metadata": {},
     "output_type": "display_data"
    }
   ],
   "source": [
    "with plt.style.context('dark_background'):\n",
    "    sns.set_context(\"paper\", font_scale= 2)\n",
    "    plt.style.context('dark_background')\n",
    "    fig, ax = plt.subplots(figsize=(10,8))\n",
    "    ax = sns.pointplot(x=\"mean_alpha\", y=\"suspects\", data=results_final, join=False, color = 'g', size = 40000, label = 'after')\n",
    "\n",
    "    ax.set(xlabel='Culpability', ylabel='')\n",
    "    i = 0\n",
    "    for row, pair in enumerate(zip(results_final['alpha_hpd3'], results_final['alpha_hpd97'])):\n",
    "        ax.plot(pair, [row,row],color = sns.color_palette(\"hls\",10)[i], lw=3)\n",
    "        i +=1\n",
    "    plt.setp(ax.collections, sizes=[100])\n",
    "    \n",
    "    plt.tight_layout()\n",
    "    plt.savefig('./images/final_graphic.png')\n",
    "    plt.show()"
   ]
  },
  {
   "cell_type": "code",
   "execution_count": null,
   "metadata": {},
   "outputs": [],
   "source": []
  },
  {
   "cell_type": "code",
   "execution_count": null,
   "metadata": {},
   "outputs": [],
   "source": []
  },
  {
   "cell_type": "markdown",
   "metadata": {},
   "source": [
    "## Epilogue"
   ]
  },
  {
   "cell_type": "code",
   "execution_count": null,
   "metadata": {},
   "outputs": [],
   "source": []
  },
  {
   "cell_type": "code",
   "execution_count": null,
   "metadata": {},
   "outputs": [],
   "source": []
  },
  {
   "cell_type": "code",
   "execution_count": null,
   "metadata": {},
   "outputs": [],
   "source": []
  },
  {
   "cell_type": "code",
   "execution_count": null,
   "metadata": {},
   "outputs": [],
   "source": []
  },
  {
   "cell_type": "code",
   "execution_count": null,
   "metadata": {},
   "outputs": [],
   "source": []
  },
  {
   "cell_type": "code",
   "execution_count": null,
   "metadata": {},
   "outputs": [],
   "source": []
  },
  {
   "cell_type": "code",
   "execution_count": null,
   "metadata": {},
   "outputs": [],
   "source": []
  }
 ],
 "metadata": {
  "kernelspec": {
   "display_name": "Python 3",
   "language": "python",
   "name": "python3"
  },
  "language_info": {
   "codemirror_mode": {
    "name": "ipython",
    "version": 3
   },
   "file_extension": ".py",
   "mimetype": "text/x-python",
   "name": "python",
   "nbconvert_exporter": "python",
   "pygments_lexer": "ipython3",
   "version": "3.7.6"
  }
 },
 "nbformat": 4,
 "nbformat_minor": 4
}
