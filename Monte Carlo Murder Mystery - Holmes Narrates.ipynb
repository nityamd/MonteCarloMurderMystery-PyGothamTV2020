{
 "cells": [
  {
   "cell_type": "markdown",
   "metadata": {},
   "source": [
    "## Prologue\n",
    "\n",
    "<i> A Note from Shellakybooky Holmes (September 1st, 1930) </i>\n",
    "\n",
    "This past summer, Dr. Jahnvi Watson and I were spending some time in Monte Carlo at the Hotel Hamilton for what you might call \"a vacation\". In truth, I was honing my renowned skills of deduction while Watson went about her activities. I was engaged in becoming familiar with a school of statistical thinking, the Bayesian methodology of inference and analysis. There are remarkable methods within this school that are perfectly suited to my needs as a detective and man of science. Hence I spent many a summer day training my mind palace in the implementation of these methods so as to employ it most effectively whenever the need arose. And as luck would have it, such a need arose! The murder of Count Frick Von Twist provided an ideal testing ground for these methods and I have chronicled the details of the case and the subsequent resolution here.\n",
    "\n",
    "As is the case with most explanations, once it is grasped it seems almost trivial, a phenomenon that annoys me immensely! Like a magician's carefully constructed sleight of hand, to reveal one's tricks is to expose oneself to ridicule and trivialization. Nonetheless, upon my friend's insitence, I shall endeavour to provide you with such an explanation with a view to make them seem elementary to you as well. But be not fooled, my dear reader, as the apparent simplicity of these methods bely an underlying sophistication that can only be grasped at with sufficient practice. It is my hope thus that the analysis presented here inspires many an amateur enthusiast of the science of deduction (such as my dear friend Watson herself) to embrace these marvelous methods whenever they are in need of infering information from data. "
   ]
  },
  {
   "cell_type": "markdown",
   "metadata": {},
   "source": [
    "## 1. The game is afoot!"
   ]
  },
  {
   "cell_type": "code",
   "execution_count": 1,
   "metadata": {
    "slideshow": {
     "slide_type": "skip"
    }
   },
   "outputs": [],
   "source": [
    "#Importing the usual suspects\n",
    "import numpy as np\n",
    "import pandas as pd\n",
    "import matplotlib.pyplot as plt\n",
    "import warnings"
   ]
  },
  {
   "cell_type": "markdown",
   "metadata": {},
   "source": [
    "(<i>To run the following lines of code you will have to install pymc3. If you haven't already, uncomment the following cell to do so!</i>)"
   ]
  },
  {
   "cell_type": "code",
   "execution_count": 2,
   "metadata": {},
   "outputs": [],
   "source": [
    "#!pip install pymc3"
   ]
  },
  {
   "cell_type": "code",
   "execution_count": 3,
   "metadata": {
    "slideshow": {
     "slide_type": "skip"
    }
   },
   "outputs": [],
   "source": [
    "import pymc3 as pm\n",
    "import theano.tensor as tt\n",
    "import arviz as az\n",
    "import seaborn as sns"
   ]
  },
  {
   "cell_type": "markdown",
   "metadata": {},
   "source": [
    "Space to describe the problem along with shots of each character."
   ]
  },
  {
   "cell_type": "code",
   "execution_count": 4,
   "metadata": {},
   "outputs": [],
   "source": [
    "suspect_names = ['Viscountess Bae Zhun',  'Major Viktor Ljutenitsa', 'Ms Ingrid Hepburn', \n",
    "                 'Lord Bryce Bloomington', 'Barrister Shannon Von Twist', 'Nurse Eliza Dill', \n",
    "                 'Lady Barbara Bloomington', 'Mr. Miles Murdoch', 'Mr. Stan Hamilton','Python']"
   ]
  },
  {
   "cell_type": "markdown",
   "metadata": {},
   "source": [
    "I instructed Watson to interview each of the guests separately and take down detailed notes. In particular I asked her to jot down the responses to each of the following questions. <br>\n",
    "\n",
    "1. Is there an alibi for the suspect? (0/1)\n",
    "2. Did they benefit from the Count’s will? (0/1) \n",
    "3. How are their archery skills? (0/1) \n",
    "4. Does anyone else suspect them? (0/1)\n",
    "5. Did they have animosity towards the Count? (0/1)\n",
    "\n",
    "Some of these are absolute requirements for the murder (alibi and archery skill for instance) and the others, possibly highly correlated with the same. Perhaps Watson would have preferred to write these down on a spectrum of values, but the simplest approach would be to assign a 1 or a 0 to each suspect. \n",
    "(<i>1, being the value correlated with murder and 0 the opposite. Thus, for instance absence of a valid alibi would correspond to 1 and whether they have been trained in archery would correspond to 1 as well.</i>)"
   ]
  },
  {
   "cell_type": "markdown",
   "metadata": {},
   "source": [
    "## 2. Watson Interviews"
   ]
  },
  {
   "cell_type": "code",
   "execution_count": 5,
   "metadata": {},
   "outputs": [
    {
     "data": {
      "text/html": [
       "<div>\n",
       "<style scoped>\n",
       "    .dataframe tbody tr th:only-of-type {\n",
       "        vertical-align: middle;\n",
       "    }\n",
       "\n",
       "    .dataframe tbody tr th {\n",
       "        vertical-align: top;\n",
       "    }\n",
       "\n",
       "    .dataframe thead th {\n",
       "        text-align: right;\n",
       "    }\n",
       "</style>\n",
       "<table border=\"1\" class=\"dataframe\">\n",
       "  <thead>\n",
       "    <tr style=\"text-align: right;\">\n",
       "      <th></th>\n",
       "      <th>suspects</th>\n",
       "      <th>alibi</th>\n",
       "      <th>archery</th>\n",
       "      <th>inheritance</th>\n",
       "      <th>suspicion</th>\n",
       "      <th>animosity</th>\n",
       "    </tr>\n",
       "  </thead>\n",
       "  <tbody>\n",
       "    <tr>\n",
       "      <th>0</th>\n",
       "      <td>Viscountess Bae Zhun</td>\n",
       "      <td>0</td>\n",
       "      <td>1</td>\n",
       "      <td>1</td>\n",
       "      <td>0</td>\n",
       "      <td>1</td>\n",
       "    </tr>\n",
       "    <tr>\n",
       "      <th>1</th>\n",
       "      <td>Major Viktor Ljutenitsa</td>\n",
       "      <td>0</td>\n",
       "      <td>1</td>\n",
       "      <td>0</td>\n",
       "      <td>1</td>\n",
       "      <td>0</td>\n",
       "    </tr>\n",
       "    <tr>\n",
       "      <th>2</th>\n",
       "      <td>Ms Ingrid Hepburn</td>\n",
       "      <td>1</td>\n",
       "      <td>1</td>\n",
       "      <td>0</td>\n",
       "      <td>1</td>\n",
       "      <td>0</td>\n",
       "    </tr>\n",
       "    <tr>\n",
       "      <th>3</th>\n",
       "      <td>Lord Bryce Bloomington</td>\n",
       "      <td>0</td>\n",
       "      <td>1</td>\n",
       "      <td>0</td>\n",
       "      <td>1</td>\n",
       "      <td>1</td>\n",
       "    </tr>\n",
       "    <tr>\n",
       "      <th>4</th>\n",
       "      <td>Barrister Shannon Von Twist</td>\n",
       "      <td>0</td>\n",
       "      <td>1</td>\n",
       "      <td>0</td>\n",
       "      <td>1</td>\n",
       "      <td>0</td>\n",
       "    </tr>\n",
       "    <tr>\n",
       "      <th>5</th>\n",
       "      <td>Nurse Eliza Dill</td>\n",
       "      <td>1</td>\n",
       "      <td>1</td>\n",
       "      <td>0</td>\n",
       "      <td>1</td>\n",
       "      <td>0</td>\n",
       "    </tr>\n",
       "    <tr>\n",
       "      <th>6</th>\n",
       "      <td>Lady Barbara Bloomington</td>\n",
       "      <td>1</td>\n",
       "      <td>0</td>\n",
       "      <td>0</td>\n",
       "      <td>0</td>\n",
       "      <td>0</td>\n",
       "    </tr>\n",
       "    <tr>\n",
       "      <th>7</th>\n",
       "      <td>Mr. Miles Murdoch</td>\n",
       "      <td>1</td>\n",
       "      <td>0</td>\n",
       "      <td>0</td>\n",
       "      <td>0</td>\n",
       "      <td>1</td>\n",
       "    </tr>\n",
       "    <tr>\n",
       "      <th>8</th>\n",
       "      <td>Mr. Stan Hamilton</td>\n",
       "      <td>0</td>\n",
       "      <td>0</td>\n",
       "      <td>1</td>\n",
       "      <td>1</td>\n",
       "      <td>1</td>\n",
       "    </tr>\n",
       "    <tr>\n",
       "      <th>9</th>\n",
       "      <td>Python</td>\n",
       "      <td>1</td>\n",
       "      <td>0</td>\n",
       "      <td>0</td>\n",
       "      <td>0</td>\n",
       "      <td>0</td>\n",
       "    </tr>\n",
       "  </tbody>\n",
       "</table>\n",
       "</div>"
      ],
      "text/plain": [
       "                      suspects  alibi  archery  inheritance  suspicion  \\\n",
       "0         Viscountess Bae Zhun      0        1            1          0   \n",
       "1      Major Viktor Ljutenitsa      0        1            0          1   \n",
       "2            Ms Ingrid Hepburn      1        1            0          1   \n",
       "3       Lord Bryce Bloomington      0        1            0          1   \n",
       "4  Barrister Shannon Von Twist      0        1            0          1   \n",
       "5             Nurse Eliza Dill      1        1            0          1   \n",
       "6     Lady Barbara Bloomington      1        0            0          0   \n",
       "7            Mr. Miles Murdoch      1        0            0          0   \n",
       "8            Mr. Stan Hamilton      0        0            1          1   \n",
       "9                       Python      1        0            0          0   \n",
       "\n",
       "   animosity  \n",
       "0          1  \n",
       "1          0  \n",
       "2          0  \n",
       "3          1  \n",
       "4          0  \n",
       "5          0  \n",
       "6          0  \n",
       "7          1  \n",
       "8          1  \n",
       "9          0  "
      ]
     },
     "execution_count": 5,
     "metadata": {},
     "output_type": "execute_result"
    }
   ],
   "source": [
    "df = pd.read_csv('TheWatsonNotes/1_Watson_Interviews.csv')\n",
    "df"
   ]
  },
  {
   "cell_type": "markdown",
   "metadata": {},
   "source": [
    "### A model choice\n",
    "\n",
    "Watson's meticulous compilation of the above data sets us up very well indeed to be able to tackle the problem. What can we glean from a table of 0's and 1's? Well for one, we can already see the variance in the number of ones in some of the rows (i.e., between the different suspects). However, to approach this more rigorously, I propose a model belonging to the group of models known as Rasch model (or an [Item Response Model](https://mc-stan.org/docs/2_20/stan-users-guide/item-response-models-section.html)).\n",
    "\n",
    "Let's say each individual has a latent culpability $\\alpha$ and that each so-called \"murder proxy\" has a latent measure of ease (or difficulty) among the group, $\\beta$ (For instance, it could be that many people are skilled archers or very few people have alibis, etc.) We propose the following equation to describe the probability that a suspect $j$ is culpable in murder proxy $k$:\n",
    "\n",
    "$$ P(y_{j,k} = 1) = \\hbox{logit}^{-1}(\\alpha_{j} + \\beta_{k}) $$\n",
    "\n",
    "We have 10 suspects here and 5 murder proxies and so $j$ takes from 0,1,..,9 and $k$, from 0,1..,4 to keep pythonic indexing here. The [inverse logit](https://en.wikipedia.org/wiki/Logit) function is a natural choice for binary predictions and represents the logarithm of odds. Simply put, the higher the $\\alpha$ and $\\beta$ for a particular suspect-proxy (j,k) pair, the greater the odds of their culpability within that context."
   ]
  },
  {
   "cell_type": "markdown",
   "metadata": {},
   "source": [
    "### Assigning priors\n",
    "\n",
    "Once we have specified a model, we would now like to consider the question of priors. Of course we intend to infer the fifteen latent measures described above, but we must consider what these numbers could be before moving forward, i.e., we must assign them prior distributions that quantify our knowledge thusfar.  \n",
    "\n",
    "I did ask Watson to also note down her subjective suspicions of everyone - I verily do trust her excellent intuition but she (bless her soul!) is more innately trusting in the goodness of human nature than I would like my model to be at this very moment. Besides, it is early in this game of cat and mouse and so I am going to set those numbers aside for now and instead consider the same prior for each suspect - a normal distribution centred on 0 and with a standard deviation of 1. With PyMC3, it is as simple as writing down the following:"
   ]
  },
  {
   "cell_type": "code",
   "execution_count": 6,
   "metadata": {},
   "outputs": [],
   "source": [
    "sample_distribution = pm.Normal.dist(0,1)"
   ]
  },
  {
   "cell_type": "markdown",
   "metadata": {},
   "source": [
    "What would such a prior look like? We're going to draw 10000 samples from this distribution and plot it to get an idea! The X-axis below represents the value of culpability for each suspect and the Y-Axis gives us a measure of how likely it is that the value gets drawn from the distribution. Thus, here, the priors are centred at zero, i.e., we really are giving each suspect a fair chance. Once we have run our simluations, we will get the <b> posterior</b> which likely will not be centred at zero for each suspect, indicating which direction their culpability might tend to - but more on that later!"
   ]
  },
  {
   "cell_type": "code",
   "execution_count": 7,
   "metadata": {},
   "outputs": [
    {
     "data": {
      "image/png": "[encoded data removed]",
      "text/plain": [
       "<Figure size 432x288 with 1 Axes>"
      ]
     },
     "metadata": {
      "needs_background": "light"
     },
     "output_type": "display_data"
    }
   ],
   "source": [
    "sns.distplot(sample_distribution.random(size = 10000))\n",
    "plt.xlabel(r'Distribution of $\\alpha$ for each suspect', fontsize =20 )\n",
    "plt.show()"
   ]
  },
  {
   "cell_type": "markdown",
   "metadata": {},
   "source": [
    "It is worth keeping in mind that we're keeping the same distribution for all the suspect culpabilities and the murder proxies. "
   ]
  },
  {
   "cell_type": "markdown",
   "metadata": {},
   "source": [
    "### Writing the model\n",
    "\n",
    "Now that we know how to ascribe priors to our parameters, we're going to incorporate this into our model as follows:"
   ]
  },
  {
   "cell_type": "code",
   "execution_count": 8,
   "metadata": {},
   "outputs": [],
   "source": [
    "n_suspects = 10\n",
    "n_proxies = 5\n",
    "with pm.Model() as model:\n",
    "    alpha = pm.Normal('alpha', mu = 0, sd = 1, shape=n_suspects)\n",
    "    beta = pm.Normal('beta', mu=0, sd=1, shape = n_proxies)"
   ]
  },
  {
   "cell_type": "markdown",
   "metadata": {},
   "source": [
    "Before we begin sampling, we would like our data from above and transform it to one that has only 3 columns: <b>Suspect Number</b>, <b>Murder Proxy Number</b> and <b>Value</b> (i.e., 0 or 1). It's a quick call to one of the functions (among others) I wrote on the back of an envelope that will let us do this:"
   ]
  },
  {
   "cell_type": "code",
   "execution_count": 9,
   "metadata": {},
   "outputs": [
    {
     "data": {
      "text/html": [
       "<div>\n",
       "<style scoped>\n",
       "    .dataframe tbody tr th:only-of-type {\n",
       "        vertical-align: middle;\n",
       "    }\n",
       "\n",
       "    .dataframe tbody tr th {\n",
       "        vertical-align: top;\n",
       "    }\n",
       "\n",
       "    .dataframe thead th {\n",
       "        text-align: right;\n",
       "    }\n",
       "</style>\n",
       "<table border=\"1\" class=\"dataframe\">\n",
       "  <thead>\n",
       "    <tr style=\"text-align: right;\">\n",
       "      <th></th>\n",
       "      <th>suspects</th>\n",
       "      <th>murder_proxy</th>\n",
       "      <th>value</th>\n",
       "    </tr>\n",
       "  </thead>\n",
       "  <tbody>\n",
       "    <tr>\n",
       "      <th>0</th>\n",
       "      <td>0</td>\n",
       "      <td>0</td>\n",
       "      <td>0</td>\n",
       "    </tr>\n",
       "    <tr>\n",
       "      <th>1</th>\n",
       "      <td>0</td>\n",
       "      <td>1</td>\n",
       "      <td>1</td>\n",
       "    </tr>\n",
       "    <tr>\n",
       "      <th>2</th>\n",
       "      <td>0</td>\n",
       "      <td>2</td>\n",
       "      <td>1</td>\n",
       "    </tr>\n",
       "    <tr>\n",
       "      <th>3</th>\n",
       "      <td>0</td>\n",
       "      <td>3</td>\n",
       "      <td>0</td>\n",
       "    </tr>\n",
       "    <tr>\n",
       "      <th>4</th>\n",
       "      <td>0</td>\n",
       "      <td>4</td>\n",
       "      <td>1</td>\n",
       "    </tr>\n",
       "    <tr>\n",
       "      <th>5</th>\n",
       "      <td>1</td>\n",
       "      <td>0</td>\n",
       "      <td>0</td>\n",
       "    </tr>\n",
       "    <tr>\n",
       "      <th>6</th>\n",
       "      <td>1</td>\n",
       "      <td>1</td>\n",
       "      <td>1</td>\n",
       "    </tr>\n",
       "    <tr>\n",
       "      <th>7</th>\n",
       "      <td>1</td>\n",
       "      <td>2</td>\n",
       "      <td>0</td>\n",
       "    </tr>\n",
       "    <tr>\n",
       "      <th>8</th>\n",
       "      <td>1</td>\n",
       "      <td>3</td>\n",
       "      <td>1</td>\n",
       "    </tr>\n",
       "    <tr>\n",
       "      <th>9</th>\n",
       "      <td>1</td>\n",
       "      <td>4</td>\n",
       "      <td>0</td>\n",
       "    </tr>\n",
       "  </tbody>\n",
       "</table>\n",
       "</div>"
      ],
      "text/plain": [
       "   suspects  murder_proxy  value\n",
       "0         0             0      0\n",
       "1         0             1      1\n",
       "2         0             2      1\n",
       "3         0             3      0\n",
       "4         0             4      1\n",
       "5         1             0      0\n",
       "6         1             1      1\n",
       "7         1             2      0\n",
       "8         1             3      1\n",
       "9         1             4      0"
      ]
     },
     "execution_count": 9,
     "metadata": {},
     "output_type": "execute_result"
    }
   ],
   "source": [
    "from BackOfTheEnvelope.helpers import transform_df, get_results\n",
    "newdf = transform_df(df).reset_index(drop = True)\n",
    "newdf.head(10)"
   ]
  },
  {
   "cell_type": "markdown",
   "metadata": {},
   "source": [
    "## 3. The Mind Palace"
   ]
  },
  {
   "cell_type": "markdown",
   "metadata": {},
   "source": []
  },
  {
   "cell_type": "code",
   "execution_count": 11,
   "metadata": {},
   "outputs": [
    {
     "name": "stderr",
     "output_type": "stream",
     "text": [
      "Auto-assigning NUTS sampler...\n",
      "Initializing NUTS using jitter+adapt_diag...\n",
      "Multiprocess sampling (4 chains in 2 jobs)\n",
      "NUTS: [beta, alpha]\n",
      "Sampling 4 chains, 0 divergences: 100%|██████████| 16000/16000 [00:14<00:00, 1077.37draws/s]\n"
     ]
    }
   ],
   "source": [
    "observed_data = newdf['value']\n",
    "with model:\n",
    "    idx1 = newdf.suspects.values\n",
    "    idx2 = newdf.murder_proxy.values\n",
    "    contextual_culpability= pm.Deterministic('contextual_culpability', alpha[idx1] + beta[idx2]) \n",
    "    theta = pm.Deterministic('theta', pm.math.sigmoid(culpability))\n",
    "    y = pm.Bernoulli('y', theta ,observed = observed_data)\n",
    "    trace = pm.sample(2000, tune=2000, chains = 4)"
   ]
  },
  {
   "cell_type": "code",
   "execution_count": 18,
   "metadata": {},
   "outputs": [
    {
     "data": {
      "text/plain": [
       "((8000, 10), (8000, 5), (8000, 50))"
      ]
     },
     "execution_count": 18,
     "metadata": {},
     "output_type": "execute_result"
    }
   ],
   "source": [
    "np.shape(trace['alpha']), np.shape(trace['beta']), np.shape(trace['contextual_culpability'])"
   ]
  },
  {
   "cell_type": "markdown",
   "metadata": {},
   "source": [
    "### A peek into the posteriors"
   ]
  },
  {
   "cell_type": "code",
   "execution_count": 13,
   "metadata": {},
   "outputs": [
    {
     "ename": "TypeError",
     "evalue": "hist() missing 1 required positional argument: 'x'",
     "output_type": "error",
     "traceback": [
      "\u001b[0;31m---------------------------------------------------------------------------\u001b[0m",
      "\u001b[0;31mTypeError\u001b[0m                                 Traceback (most recent call last)",
      "\u001b[0;32m<ipython-input-13-023a5323ec54>\u001b[0m in \u001b[0;36m<module>\u001b[0;34m\u001b[0m\n\u001b[1;32m      1\u001b[0m \u001b[0mplt\u001b[0m\u001b[0;34m.\u001b[0m\u001b[0mhist\u001b[0m\u001b[0;34m(\u001b[0m\u001b[0mtrace_simple\u001b[0m\u001b[0;34m[\u001b[0m\u001b[0;34m'alpha'\u001b[0m\u001b[0;34m]\u001b[0m\u001b[0;34m[\u001b[0m\u001b[0;34m:\u001b[0m\u001b[0;34m,\u001b[0m\u001b[0;36m1\u001b[0m\u001b[0;34m]\u001b[0m\u001b[0;34m)\u001b[0m\u001b[0;34m\u001b[0m\u001b[0;34m\u001b[0m\u001b[0m\n\u001b[0;32m----> 2\u001b[0;31m \u001b[0mplt\u001b[0m\u001b[0;34m.\u001b[0m\u001b[0mhist\u001b[0m\u001b[0;34m(\u001b[0m\u001b[0;34m)\u001b[0m\u001b[0;34m\u001b[0m\u001b[0;34m\u001b[0m\u001b[0m\n\u001b[0m",
      "\u001b[0;31mTypeError\u001b[0m: hist() missing 1 required positional argument: 'x'"
     ]
    },
    {
     "data": {
      "image/png": "[encoded data removed]",
      "text/plain": [
       "<Figure size 432x288 with 1 Axes>"
      ]
     },
     "metadata": {
      "needs_background": "light"
     },
     "output_type": "display_data"
    }
   ],
   "source": [
    "plt.hist(trace['alpha'][:,1])\n",
    "plt.hist()"
   ]
  },
  {
   "cell_type": "code",
   "execution_count": 14,
   "metadata": {},
   "outputs": [
    {
     "name": "stdout",
     "output_type": "stream",
     "text": [
      "         proxy  mean_beta\n",
      "0        alibi      0.313\n",
      "1      archery     -0.208\n",
      "2  inheritance      0.291\n",
      "3    suspicion      0.302\n",
      "4    animosity     -0.189\n"
     ]
    }
   ],
   "source": [
    "mean_beta = [summarystats.loc['alpha['+ str(x)+ ']']['mean'] for x in range(0,5)]\n",
    "results_df_beta = pd.DataFrame({'proxy':['alibi', 'archery', \n",
    "                                                      'inheritance', 'suspicion', \n",
    "                                                          'animosity'] , 'mean_beta': mean_beta})\n",
    "print(results_df_beta)"
   ]
  },
  {
   "cell_type": "markdown",
   "metadata": {},
   "source": [
    "### How well does the model fit the observed data?"
   ]
  },
  {
   "cell_type": "markdown",
   "metadata": {},
   "source": [
    "## 4. A Twist in the Tale"
   ]
  },
  {
   "cell_type": "code",
   "execution_count": null,
   "metadata": {},
   "outputs": [],
   "source": []
  },
  {
   "cell_type": "code",
   "execution_count": null,
   "metadata": {},
   "outputs": [],
   "source": []
  },
  {
   "cell_type": "code",
   "execution_count": null,
   "metadata": {},
   "outputs": [],
   "source": []
  },
  {
   "cell_type": "code",
   "execution_count": null,
   "metadata": {},
   "outputs": [],
   "source": []
  },
  {
   "cell_type": "code",
   "execution_count": null,
   "metadata": {},
   "outputs": [],
   "source": []
  },
  {
   "cell_type": "code",
   "execution_count": null,
   "metadata": {},
   "outputs": [],
   "source": []
  }
 ],
 "metadata": {
  "kernelspec": {
   "display_name": "Python 3",
   "language": "python",
   "name": "python3"
  },
  "language_info": {
   "codemirror_mode": {
    "name": "ipython",
    "version": 3
   },
   "file_extension": ".py",
   "mimetype": "text/x-python",
   "name": "python",
   "nbconvert_exporter": "python",
   "pygments_lexer": "ipython3",
   "version": "3.7.6"
  }
 },
 "nbformat": 4,
 "nbformat_minor": 4
}
